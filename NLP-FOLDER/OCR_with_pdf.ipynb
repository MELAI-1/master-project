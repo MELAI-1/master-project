{
  "cells": [
    {
      "cell_type": "code",
      "execution_count": null,
      "metadata": {
        "colab": {
          "base_uri": "https://localhost:8080/"
        },
        "id": "5Gttb2LfAinV",
        "outputId": "e2014e06-1f50-41e7-a434-5de2f60de39c"
      },
      "outputs": [
        {
          "name": "stdout",
          "output_type": "stream",
          "text": [
            "Collecting pymupdf\n",
            "  Downloading PyMuPDF-1.23.7-cp310-none-manylinux2014_x86_64.whl (4.4 MB)\n",
            "\u001b[2K     \u001b[90m━━━━━━━━━━━━━━━━━━━━━━━━━━━━━━━━━━━━━━━━\u001b[0m \u001b[32m4.4/4.4 MB\u001b[0m \u001b[31m32.7 MB/s\u001b[0m eta \u001b[36m0:00:00\u001b[0m\n",
            "\u001b[?25hCollecting PyMuPDFb==1.23.7 (from pymupdf)\n",
            "  Downloading PyMuPDFb-1.23.7-py3-none-manylinux2014_x86_64.manylinux_2_17_x86_64.whl (30.6 MB)\n",
            "\u001b[2K     \u001b[90m━━━━━━━━━━━━━━━━━━━━━━━━━━━━━━━━━━━━━━━━\u001b[0m \u001b[32m30.6/30.6 MB\u001b[0m \u001b[31m39.6 MB/s\u001b[0m eta \u001b[36m0:00:00\u001b[0m\n",
            "\u001b[?25hInstalling collected packages: PyMuPDFb, pymupdf\n",
            "Successfully installed PyMuPDFb-1.23.7 pymupdf-1.23.7\n"
          ]
        }
      ],
      "source": [
        "pip install pymupdf\n"
      ]
    },
    {
      "cell_type": "code",
      "execution_count": null,
      "metadata": {
        "id": "ioUUA9UnPdOq"
      },
      "outputs": [],
      "source": [
        "import fitz  # PyMuPDF\n",
        "import cv2\n",
        "import numpy as np\n",
        "\n",
        "def extraire_images_pdf(pdf_path, dossier_sortie=\"images\"):\n",
        "    # Ouvrir le fichier PDF\n",
        "    pdf_document = fitz.open(pdf_path)\n",
        "\n",
        "    # Vérifier que le dossier de sortie existe\n",
        "    import os\n",
        "    if not os.path.exists(dossier_sortie):\n",
        "        os.makedirs(dossier_sortie)\n",
        "\n",
        "    # Parcourir les pages du PDF\n",
        "    for page_num in range(pdf_document.page_count):\n",
        "        # Obtenir la page PDF\n",
        "        page = pdf_document[page_num]\n",
        "\n",
        "        # Extraire les images de la page\n",
        "        images_page = page.get_images(full=True)\n",
        "\n",
        "        # Parcourir les images de la page\n",
        "        for img_index, img_info in enumerate(images_page):\n",
        "            base_image = pdf_document.extract_image(img_info[0])\n",
        "            image_bytes = base_image[\"image\"]\n",
        "\n",
        "            # Convertir les bytes en tableau NumPy\n",
        "            nparr = np.frombuffer(image_bytes, np.uint8)\n",
        "\n",
        "            # Décoder l'image avec OpenCV\n",
        "            image_cv = cv2.imdecode(nparr, cv2.IMREAD_COLOR)\n",
        "\n",
        "            # Enregistrer l'image dans un fichier\n",
        "            image_filename = f\"{dossier_sortie}/image_page_{page_num + 1}_img_{img_index + 1}.png\"\n",
        "            cv2.imwrite(image_filename, image_cv)\n",
        "\n",
        "            print(f\"Image extraite : {image_filename}\")\n",
        "\n",
        "    # Fermer le fichier PDF\n",
        "    pdf_document.close()\n",
        "\n",
        "# Exemple d'utilisation\n",
        "pdf_path = \"chemin/vers/votre_fichier.pdf\"\n",
        "extraire_images_pdf(pdf_path, dossier_sortie=\"images\")\n"
      ]
    },
    {
      "cell_type": "code",
      "execution_count": null,
      "metadata": {
        "colab": {
          "base_uri": "https://localhost:8080/"
        },
        "id": "AhLJdQ6oRpRD",
        "outputId": "10a5e722-e6c6-47e8-8cae-0e2b2e63e23d"
      },
      "outputs": [
        {
          "name": "stdout",
          "output_type": "stream",
          "text": [
            "Collecting pypdf\n",
            "  Downloading pypdf-3.17.1-py3-none-any.whl (277 kB)\n",
            "\u001b[2K     \u001b[90m━━━━━━━━━━━━━━━━━━━━━━━━━━━━━━━━━━━━━━━━\u001b[0m \u001b[32m277.6/277.6 kB\u001b[0m \u001b[31m5.3 MB/s\u001b[0m eta \u001b[36m0:00:00\u001b[0m\n",
            "\u001b[?25hInstalling collected packages: pypdf\n",
            "Successfully installed pypdf-3.17.1\n"
          ]
        }
      ],
      "source": [
        "!pip install pypdf"
      ]
    },
    {
      "cell_type": "code",
      "execution_count": null,
      "metadata": {
        "colab": {
          "base_uri": "https://localhost:8080/"
        },
        "id": "jm-9ZbUxRa5c",
        "outputId": "89958e16-da48-4271-d29d-500cc5735906"
      },
      "outputs": [
        {
          "name": "stdout",
          "output_type": "stream",
          "text": [
            " \n",
            "    \n",
            "  \n",
            "  \n",
            "Yaoundé,  le 07 décembre  2023  \n",
            "  \n",
            "  \n",
            "COMMUNIQUE :   \n",
            "  \n",
            "Convocation du club étudiant  \n",
            "  \n",
            "Chers étudiants  de Yaoundé  et ses environs ,  \n",
            " \n",
            "      Nous avons le privilège  de vous convier à  une réunion  prévue  pour le \n",
            "10 janvier  2024  dès 15 H 00 à l’université  de Yaoundé  1. L'objectif de \n",
            "cette rencontre est de débattre des  projets à venir  et de l’encadrement \n",
            "pédagogique  pour le compte de l ’exercice associatif  2023 -2024.  \n",
            "  \n",
            "     Votre présence et votr e contribution sont impératives pour  garantir la \n",
            "réussite  de cette  assemblée .   \n",
            " \n",
            "Nous vo us incitons vivement  à venir avec des idées et des suggestions pour \n",
            "rendre nos activités encore plus intéressantes et enrichissantes.  \n",
            "  \n",
            "   DAAS  \n",
            "FOKAM MELVIN   \n",
            "    \n",
            "                                              \n",
            " \n",
            " \n",
            "Contacts : Président : 657485577 / 674310317 – Secrétariat : 650837705, 656729538  Trésorier  \n",
            ": 672193835 / 695269581   \n",
            "Site web : www.aeeab.org      –    Email : raoultwadjo@gmail.com     \n",
            "Compte bancaire: N0 01 011730837340 01 Financial House    \n",
            "\n"
          ]
        }
      ],
      "source": [
        "from pypdf import PdfReader\n",
        "\n",
        "reader = PdfReader(\"/content/convocation_club_etudiant.pdf\")\n",
        "page = reader.pages[0]\n",
        "print(page.extract_text())"
      ]
    },
    {
      "cell_type": "code",
      "execution_count": null,
      "metadata": {
        "colab": {
          "base_uri": "https://localhost:8080/"
        },
        "id": "q0ESB4TfYjv7",
        "outputId": "8dc6fb6f-20d0-46a0-e9c6-33d948924e8a"
      },
      "outputs": [
        {
          "name": "stdout",
          "output_type": "stream",
          "text": [
            "information\n",
            "texte\n"
          ]
        }
      ],
      "source": [
        "import re\n",
        "\n",
        "# Chaîne de caractères d'exemple\n",
        "texte = \"Ceci est un exemple de texte:information à récupérer. Voici un autre texte:texte valide.\"\n",
        "\n",
        "# Expression régulière pour extraire le texte:texte\n",
        "expression_reguliere = r'texte:(\\w+)'\n",
        "\n",
        "# Utiliser re.findall pour trouver toutes les occurrences correspondantes\n",
        "resultats = re.findall(expression_reguliere, texte)\n",
        "\n",
        "# Afficher les résultats\n",
        "for resultat in resultats:\n",
        "    print(resultat)\n"
      ]
    },
    {
      "cell_type": "code",
      "execution_count": null,
      "metadata": {
        "colab": {
          "background_save": true,
          "base_uri": "https://localhost:8080/"
        },
        "id": "njCzYd59Y13r",
        "outputId": "3c1ba2e0-fcea-4b4a-b969-9e7fee957b3e"
      },
      "outputs": [
        {
          "name": "stdout",
          "output_type": "stream",
          "text": [
            "texte bonjour comment tu vas\n"
          ]
        }
      ],
      "source": [
        "import re\n",
        "\n",
        "def extraire_texte(pattern, texte):\n",
        "    # Utiliser l'expression régulière pour trouver des correspondances\n",
        "    correspondances = re.findall(pattern, texte)\n",
        "\n",
        "    # Retourner les correspondances trouvées\n",
        "    return correspondances\n",
        "\n",
        "# Exemple d'utilisation avec un texte\n",
        "texte_complet = \"Ceci est un exemple de texte:texte bonjour comment tu vas . C'est un autre exemple de texte:texte.\"\n",
        "element=\"tableau\"\n",
        "# Définir le motif de l'expression régulière\n",
        "pattern = r'texte:(.*?)\\.'\n",
        "\n",
        "# Appeler la fonction pour extraire le texte\n",
        "resultats = extraire_texte(pattern, texte_complet)\n",
        "\n",
        "# Afficher les résultats\n",
        "for resultat in resultats:\n",
        "    print(resultat.strip())\n"
      ]
    }
  ],
  "metadata": {
    "colab": {
      "provenance": []
    },
    "kernelspec": {
      "display_name": "Python 3",
      "name": "python3"
    },
    "language_info": {
      "name": "python"
    }
  },
  "nbformat": 4,
  "nbformat_minor": 0
}